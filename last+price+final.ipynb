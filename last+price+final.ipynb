{
 "cells": [
  {
   "cell_type": "code",
   "execution_count": 5,
   "metadata": {
    "scrolled": true
   },
   "outputs": [
    {
     "name": "stdout",
     "output_type": "stream",
     "text": [
      "['Status', 'Name', 'Symbol', 'LastPrice', 'Change', 'ChangePercent', 'Timestamp', 'MSDate', 'MarketCap', 'Volume', 'ChangeYTD', 'ChangePercentYTD', 'High', 'Low', 'Open'] ['SUCCESS', 'Apple Inc', 'AAPL', 172.5, 1.43000000000001, 0.835915122464492, 'Thu Feb 22 00:00:00 UTC-05:00 2018', 43153, 875267242500, 30991940, 169.23, 1.93228151037051, 173.95, 171.71, 171.8]\n",
      "<class 'dict'>\n",
      "172.5\n",
      "['Status', 'Name', 'Symbol', 'LastPrice', 'Change', 'ChangePercent', 'Timestamp', 'MSDate', 'MarketCap', 'Volume', 'ChangeYTD', 'ChangePercentYTD', 'High', 'Low', 'Open'] ['SUCCESS', 'Alphabet Inc', 'GOOGL', 1109.9, -3.84999999999991, -0.345679012345671, 'Thu Feb 22 00:00:00 UTC-05:00 2018', 43153, 383419394600, 1400536, 1053.4, 5.36358458325422, 1125.46, 1105.15, 1119.17]\n",
      "<class 'dict'>\n",
      "1109.9\n"
     ]
    }
   ],
   "source": [
    "import requests \n",
    "import json\n",
    "symbol = ('AAPL','GOOG')\n",
    "for i in symbol:\n",
    "    url = \"http://dev.markitondemand.com/MODApis/Api/v2/Quote/json/?symbol=%s\" % (i)\n",
    "    response = requests.get(url).json()\n",
    "    ke = list(response.keys())\n",
    "    ta = list(response.values())\n",
    "    \n",
    "    print(ke,ta)\n",
    "    print(type(response))\n",
    "    print(response['LastPrice'])\n",
    "    #print(json.dumps(response))\n",
    "    try:\n",
    "        response = requests.get(url)\n",
    "        if not response.status_code == 200:\n",
    "            print(\"HTTP error\",response.status_code)\n",
    "        else:\n",
    "            try:\n",
    "                response_data = response.json()\n",
    "            except:\n",
    "                print(\"Response not in valid JSON format\")\n",
    "    except:\n",
    "        print(\"Something went wrong with requests.get\")\n",
    "    "
   ]
  },
  {
   "cell_type": "code",
   "execution_count": 6,
   "metadata": {},
   "outputs": [],
   "source": [
    "import sqlite3\n",
    "conn = sqlite3.connect('Last_Price.db')\n",
    "\n",
    "c = conn.cursor()\n",
    "c.execute('DROP TABLE IF EXISTS users')\n",
    "c.execute('''CREATE TABLE users (\n",
    "id INTEGER PRIMARY KEY AUTOINCREMENT,\n",
    "username VARCHAR(128), \n",
    "password VARCHAR(128)\n",
    ");''')\n",
    "\n",
    "c.execute('DROP TABLE IF EXISTS stock')\n",
    "c.execute('''CREATE TABLE stock (\n",
    "stock_name Varchar,\n",
    "stock_symbol VARCHAR,\n",
    "stock_LastPrice INTEGER,\n",
    "Stock_Volume Integer\n",
    ");''')\n",
    "\n",
    "c.execute(\"INSERT INTO stock VALUES ('Apple Inc','AAPL',161,26131530)\")\n",
    "\n",
    "conn.commit()\n",
    "c.close()\n",
    "conn.close()"
   ]
  },
  {
   "cell_type": "code",
   "execution_count": 7,
   "metadata": {},
   "outputs": [
    {
     "ename": "SyntaxError",
     "evalue": "invalid syntax (<ipython-input-7-f0e265393eea>, line 2)",
     "output_type": "error",
     "traceback": [
      "\u001b[0;36m  File \u001b[0;32m\"<ipython-input-7-f0e265393eea>\"\u001b[0;36m, line \u001b[0;32m2\u001b[0m\n\u001b[0;31m    SELECT * FROM stock\u001b[0m\n\u001b[0m                      ^\u001b[0m\n\u001b[0;31mSyntaxError\u001b[0m\u001b[0;31m:\u001b[0m invalid syntax\n"
     ]
    }
   ],
   "source": [
    "\n",
    "SELECT * FROM stock"
   ]
  },
  {
   "cell_type": "code",
   "execution_count": 61,
   "metadata": {},
   "outputs": [
    {
     "name": "stdout",
     "output_type": "stream",
     "text": [
      "[{'Symbol': 'AAPL', 'Name': 'Apple Inc', 'Exchange': 'NASDAQ'}]\n",
      "{'Status': 'SUCCESS', 'Name': 'Apple Inc', 'Symbol': 'AAPL', 'LastPrice': 161.06, 'Change': 0.97999999999999, 'ChangePercent': 0.612193903048469, 'Timestamp': 'Wed Aug 9 00:00:00 UTC-04:00 2017', 'MSDate': 42956, 'MarketCap': 831911621680, 'Volume': 26131530, 'ChangeYTD': 115.82, 'ChangePercentYTD': 39.0606112933863, 'High': 161.27, 'Low': 159.11, 'Open': 159.26}\n"
     ]
    }
   ],
   "source": [
    "import requests\n",
    "\n",
    "class Markit:\n",
    "\tdef __init__(self):\n",
    "\t\tself.lookup_url = \"http://dev.markitondemand.com/Api/v2/Lookup/json?input=\"\n",
    "\t\tself.quote_url = \"http://dev.markitondemand.com/Api/v2/Quote/json?symbol=\"\n",
    "\n",
    "\tdef company_search(self,s):\n",
    "\t\tstock = requests.get(self.lookup_url+s)\n",
    "\t\treturn stock.json()\n",
    "\t\t\n",
    "\n",
    "\tdef get_quote(self,string):\n",
    "\t\tstock = requests.get(self.quote_url+string)\n",
    "\t\treturn stock.json()\n",
    "\n",
    "search = Markit()\n",
    "print(search.company_search(\"AAPL\"))\n",
    "print(search.get_quote('AAPL'))\n"
   ]
  },
  {
   "cell_type": "code",
   "execution_count": null,
   "metadata": {
    "collapsed": true
   },
   "outputs": [],
   "source": []
  }
 ],
 "metadata": {
  "kernelspec": {
   "display_name": "Python 3",
   "language": "python",
   "name": "python3"
  },
  "language_info": {
   "codemirror_mode": {
    "name": "ipython",
    "version": 3
   },
   "file_extension": ".py",
   "mimetype": "text/x-python",
   "name": "python",
   "nbconvert_exporter": "python",
   "pygments_lexer": "ipython3",
   "version": "3.6.4"
  }
 },
 "nbformat": 4,
 "nbformat_minor": 2
}
